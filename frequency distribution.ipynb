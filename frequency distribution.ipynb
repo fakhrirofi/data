{
 "cells": [
  {
   "cell_type": "code",
   "execution_count": 1,
   "id": "6bc518b0",
   "metadata": {},
   "outputs": [],
   "source": [
    "from IPython.display import display\n",
    "import pandas as pd\n",
    "import math"
   ]
  },
  {
   "cell_type": "code",
   "execution_count": 2,
   "id": "da9e32e8",
   "metadata": {},
   "outputs": [],
   "source": [
    "def frequency_distribution(data: list, comma: int = 1):\n",
    "    print(\n",
    "        f\"count: {len(data)}\",\n",
    "        f\"max: {max(data)}\",\n",
    "        f\"min: {min(data)}\",\n",
    "        f\"range: {round(max(data)-min(data), comma)}\"\n",
    "    ,sep=\"\\n\")\n",
    "    \n",
    "    K = 1 + 3.3 * math.log10(len(data))\n",
    "    k = math.ceil(K)\n",
    "    L = round((max(data) - min(data)) / k, comma)\n",
    "    if (min(data) + k*L - float(\"0.\" + \"0\"*(comma-1) + \"1\")) < max(data):\n",
    "        k -= 1\n",
    "        L = round((max(data) - min(data)) / k, comma)\n",
    "\n",
    "    DATA = pd.DataFrame(data)\n",
    "    class_interval = [(round(i, comma), round(i + L - float('0.' + '0'*(comma-1) + '1'), comma))\n",
    "                      for i in (min(data) + j*L for j in range(k))]\n",
    "    class_interval_str = [f\"{i[0]} - {i[1]}\" for i in class_interval]\n",
    "    frequency = [len(DATA[0][(x[0] <= DATA[0]) & (x[1] >= DATA[0])]) for x in class_interval]\n",
    "    cumulative_frequency = [sum(frequency[:i+1]) for i in range(k)]\n",
    "\n",
    "    print(\"Number of classes: \", k)\n",
    "    print(\"Class width:\", L)\n",
    "\n",
    "    res = pd.DataFrame([class_interval_str, frequency, cumulative_frequency]).transpose()\n",
    "    res.columns = ['Class Interval', 'Frequency', 'Cumulative Frequency']\n",
    "    display(res)\n",
    "    \n",
    "    res.plot(kind='bar', x='Class Interval', y='Frequency')"
   ]
  },
  {
   "cell_type": "code",
   "execution_count": 3,
   "id": "376dbcd7",
   "metadata": {},
   "outputs": [
    {
     "name": "stdout",
     "output_type": "stream",
     "text": [
      "count: 40\n",
      "max: 141\n",
      "min: 98\n",
      "range: 43\n",
      "Number of classes:  6\n",
      "Class width: 7.2\n"
     ]
    },
    {
     "data": {
      "text/html": [
       "<div>\n",
       "<style scoped>\n",
       "    .dataframe tbody tr th:only-of-type {\n",
       "        vertical-align: middle;\n",
       "    }\n",
       "\n",
       "    .dataframe tbody tr th {\n",
       "        vertical-align: top;\n",
       "    }\n",
       "\n",
       "    .dataframe thead th {\n",
       "        text-align: right;\n",
       "    }\n",
       "</style>\n",
       "<table border=\"1\" class=\"dataframe\">\n",
       "  <thead>\n",
       "    <tr style=\"text-align: right;\">\n",
       "      <th></th>\n",
       "      <th>Class Interval</th>\n",
       "      <th>Frequency</th>\n",
       "      <th>Cumulative Frequency</th>\n",
       "    </tr>\n",
       "  </thead>\n",
       "  <tbody>\n",
       "    <tr>\n",
       "      <th>0</th>\n",
       "      <td>98.0 - 105.1</td>\n",
       "      <td>10</td>\n",
       "      <td>10</td>\n",
       "    </tr>\n",
       "    <tr>\n",
       "      <th>1</th>\n",
       "      <td>105.2 - 112.3</td>\n",
       "      <td>8</td>\n",
       "      <td>18</td>\n",
       "    </tr>\n",
       "    <tr>\n",
       "      <th>2</th>\n",
       "      <td>112.4 - 119.5</td>\n",
       "      <td>10</td>\n",
       "      <td>28</td>\n",
       "    </tr>\n",
       "    <tr>\n",
       "      <th>3</th>\n",
       "      <td>119.6 - 126.7</td>\n",
       "      <td>5</td>\n",
       "      <td>33</td>\n",
       "    </tr>\n",
       "    <tr>\n",
       "      <th>4</th>\n",
       "      <td>126.8 - 133.9</td>\n",
       "      <td>5</td>\n",
       "      <td>38</td>\n",
       "    </tr>\n",
       "    <tr>\n",
       "      <th>5</th>\n",
       "      <td>134.0 - 141.1</td>\n",
       "      <td>2</td>\n",
       "      <td>40</td>\n",
       "    </tr>\n",
       "  </tbody>\n",
       "</table>\n",
       "</div>"
      ],
      "text/plain": [
       "  Class Interval Frequency Cumulative Frequency\n",
       "0   98.0 - 105.1        10                   10\n",
       "1  105.2 - 112.3         8                   18\n",
       "2  112.4 - 119.5        10                   28\n",
       "3  119.6 - 126.7         5                   33\n",
       "4  126.8 - 133.9         5                   38\n",
       "5  134.0 - 141.1         2                   40"
      ]
     },
     "metadata": {},
     "output_type": "display_data"
    },
    {
     "data": {
      "image/png": "[encoded data removed]",
      "text/plain": [
       "<Figure size 432x288 with 1 Axes>"
      ]
     },
     "metadata": {
      "needs_background": "light"
     },
     "output_type": "display_data"
    }
   ],
   "source": [
    "sets = [98, 99, 100, 100, 102, 103, 103, 104, 104, 105, 106, 106,\n",
    "        108, 109, 109, 110, 111, 111, 113, 113, 114, 115, 117,\n",
    "        117, 117, 118, 119, 119, 120, 121, 122, 125, 125, 127,\n",
    "        128, 130, 130, 133, 134, 141]\n",
    "frequency_distribution(sets)"
   ]
  },
  {
   "cell_type": "code",
   "execution_count": 4,
   "id": "1c52359c",
   "metadata": {},
   "outputs": [
    {
     "name": "stdout",
     "output_type": "stream",
     "text": [
      "count: 30\n",
      "max: 33.7\n",
      "min: 22.8\n",
      "range: 10.9\n",
      "Number of classes:  6\n",
      "Class width: 1.82\n"
     ]
    },
    {
     "data": {
      "text/html": [
       "<div>\n",
       "<style scoped>\n",
       "    .dataframe tbody tr th:only-of-type {\n",
       "        vertical-align: middle;\n",
       "    }\n",
       "\n",
       "    .dataframe tbody tr th {\n",
       "        vertical-align: top;\n",
       "    }\n",
       "\n",
       "    .dataframe thead th {\n",
       "        text-align: right;\n",
       "    }\n",
       "</style>\n",
       "<table border=\"1\" class=\"dataframe\">\n",
       "  <thead>\n",
       "    <tr style=\"text-align: right;\">\n",
       "      <th></th>\n",
       "      <th>Class Interval</th>\n",
       "      <th>Frequency</th>\n",
       "      <th>Cumulative Frequency</th>\n",
       "    </tr>\n",
       "  </thead>\n",
       "  <tbody>\n",
       "    <tr>\n",
       "      <th>0</th>\n",
       "      <td>22.8 - 24.61</td>\n",
       "      <td>3</td>\n",
       "      <td>3</td>\n",
       "    </tr>\n",
       "    <tr>\n",
       "      <th>1</th>\n",
       "      <td>24.62 - 26.43</td>\n",
       "      <td>2</td>\n",
       "      <td>5</td>\n",
       "    </tr>\n",
       "    <tr>\n",
       "      <th>2</th>\n",
       "      <td>26.44 - 28.25</td>\n",
       "      <td>8</td>\n",
       "      <td>13</td>\n",
       "    </tr>\n",
       "    <tr>\n",
       "      <th>3</th>\n",
       "      <td>28.26 - 30.07</td>\n",
       "      <td>9</td>\n",
       "      <td>22</td>\n",
       "    </tr>\n",
       "    <tr>\n",
       "      <th>4</th>\n",
       "      <td>30.08 - 31.89</td>\n",
       "      <td>5</td>\n",
       "      <td>27</td>\n",
       "    </tr>\n",
       "    <tr>\n",
       "      <th>5</th>\n",
       "      <td>31.9 - 33.71</td>\n",
       "      <td>3</td>\n",
       "      <td>30</td>\n",
       "    </tr>\n",
       "  </tbody>\n",
       "</table>\n",
       "</div>"
      ],
      "text/plain": [
       "  Class Interval Frequency Cumulative Frequency\n",
       "0   22.8 - 24.61         3                    3\n",
       "1  24.62 - 26.43         2                    5\n",
       "2  26.44 - 28.25         8                   13\n",
       "3  28.26 - 30.07         9                   22\n",
       "4  30.08 - 31.89         5                   27\n",
       "5   31.9 - 33.71         3                   30"
      ]
     },
     "metadata": {},
     "output_type": "display_data"
    },
    {
     "data": {
      "image/png": "[encoded data removed]",
      "text/plain": [
       "<Figure size 432x288 with 1 Axes>"
      ]
     },
     "metadata": {
      "needs_background": "light"
     },
     "output_type": "display_data"
    }
   ],
   "source": [
    "sets = [22.8, 26.2, 31.7, 31.1, 26.9, 28.0, 29.4, 28.8, 26.7, \n",
    "        27.4, 28.2, 30.3, 29.5, 28.9, 27.5, 28.3, 24.1, 25.3,\n",
    "        28.5, 27.7, 24.4, 29.2, 30.3, 33.7, 27.5, 29.3, 30.2,\n",
    "        28.5, 32.2, 33.7]\n",
    "frequency_distribution(sets, comma=2)"
   ]
  }
 ],
 "metadata": {
  "kernelspec": {
   "display_name": "Python 3 (ipykernel)",
   "language": "python",
   "name": "python3"
  },
  "language_info": {
   "codemirror_mode": {
    "name": "ipython",
    "version": 3
   },
   "file_extension": ".py",
   "mimetype": "text/x-python",
   "name": "python",
   "nbconvert_exporter": "python",
   "pygments_lexer": "ipython3",
   "version": "3.9.7"
  }
 },
 "nbformat": 4,
 "nbformat_minor": 5
}
